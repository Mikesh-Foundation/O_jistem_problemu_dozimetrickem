{
 "cells": [
  {
   "cell_type": "markdown",
   "id": "9f02c8d4",
   "metadata": {},
   "source": [
    "# APG\n",
    "\n",
    "Výpočet $APG$ je velice přímočarý.\n",
    "$$APG = \\frac{A}{m_{det}} = \\frac{12345}{0,666} = 18536,036036 \\approx 18536 Bq \\cdot g^{-1}$$"
   ]
  },
  {
   "cell_type": "code",
   "execution_count": 20,
   "id": "0627e41b",
   "metadata": {},
   "outputs": [
    {
     "name": "stdout",
     "output_type": "stream",
     "text": [
      "18536.036036036036 Bq/g\n"
     ]
    }
   ],
   "source": [
    "A     = 12345\n",
    "m_det = 0.666\n",
    "\n",
    "print(str(A/m_det) + \" Bq/g\")"
   ]
  },
  {
   "cell_type": "markdown",
   "id": "8d9eab07",
   "metadata": {},
   "source": [
    "# APN\n",
    "\n",
    "Pro výpočet $APN$ je nejprve třeba vypočíst molární hmotnost směsi izotopů v aktivačním detektoru. Poměry izotopů jsou dány zadáním příkladu.\n",
    "\n",
    "$$M = \\sum^N_{n=1}{a_n \\cdot M_n} = 63 \\cdot 0,6917 + 65 \\cdot 0,3083 = 63,6166 \\approx 63,62 g \\cdot mol^{-1}$$"
   ]
  },
  {
   "cell_type": "code",
   "execution_count": 21,
   "id": "1d41c03d",
   "metadata": {},
   "outputs": [
    {
     "name": "stdout",
     "output_type": "stream",
     "text": [
      "63.616600000000005 g/mol\n"
     ]
    }
   ],
   "source": [
    "M = 63 * 0.6917 + 65 * 0.3083\n",
    "\n",
    "print(str(M) + \" g/mol\")"
   ]
  },
  {
   "cell_type": "markdown",
   "id": "97597775",
   "metadata": {},
   "source": [
    "Výpočet APN je pak velice snadný. Stačí podělit naměřenou aktivitu $^{60}Co$ počtem atomů $^{63}Cu$ v aktivačním detektoru\n",
    "\n",
    "$$APN = \\frac{A}{N_{63}} = \\frac{A \\cdot m}{a_{63} \\cdot M \\cdot N_A} = \\frac{12345 \\cdot 0,666}{0,6917 \\cdot 63,6166 \\cdot 6,022 \\cdot 10^{23}} = 3,1026754 \\cdot 10^{-22} \\approx 3,10 \\cdot 10^{-22} Bq$$"
   ]
  },
  {
   "cell_type": "code",
   "execution_count": 22,
   "id": "face50a2",
   "metadata": {},
   "outputs": [
    {
     "name": "stdout",
     "output_type": "stream",
     "text": [
      "3.102675398539933e-22 Bq\n"
     ]
    }
   ],
   "source": [
    "N_63 = 0.6917 * M * 6.022 * 1E23\n",
    "\n",
    "print(str(A * m_det / N_63) + \" Bq\")"
   ]
  }
 ],
 "metadata": {
  "kernelspec": {
   "display_name": "Python 3 (ipykernel)",
   "language": "python",
   "name": "python3"
  },
  "language_info": {
   "codemirror_mode": {
    "name": "ipython",
    "version": 3
   },
   "file_extension": ".py",
   "mimetype": "text/x-python",
   "name": "python",
   "nbconvert_exporter": "python",
   "pygments_lexer": "ipython3",
   "version": "3.9.2"
  }
 },
 "nbformat": 4,
 "nbformat_minor": 5
}
